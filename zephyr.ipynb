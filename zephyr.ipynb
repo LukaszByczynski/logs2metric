{
 "cells": [
  {
   "cell_type": "code",
   "execution_count": 1,
   "metadata": {},
   "outputs": [],
   "source": [
    "import apache_beam as beam\n",
    "from apache_beam.runners.interactive.interactive_runner import InteractiveRunner\n",
    "from apache_beam.runners.interactive.interactive_beam import *\n",
    "from apache_beam import coders\n",
    "from apache_beam import combiners\n",
    "import csv\n",
    "import typing\n",
    "from apache_beam.utils.timestamp import Duration\n"
   ]
  },
  {
   "cell_type": "code",
   "execution_count": 2,
   "metadata": {},
   "outputs": [],
   "source": [
    "pipeline = beam.Pipeline(InteractiveRunner())\n"
   ]
  },
  {
   "cell_type": "code",
   "execution_count": 3,
   "metadata": {},
   "outputs": [
    {
     "data": {
      "application/javascript": "\n        if (typeof window.interactive_beam_jquery == 'undefined') {\n          var jqueryScript = document.createElement('script');\n          jqueryScript.src = 'https://code.jquery.com/jquery-3.4.1.slim.min.js';\n          jqueryScript.type = 'text/javascript';\n          jqueryScript.onload = function() {\n            var datatableScript = document.createElement('script');\n            datatableScript.src = 'https://cdn.datatables.net/1.10.20/js/jquery.dataTables.min.js';\n            datatableScript.type = 'text/javascript';\n            datatableScript.onload = function() {\n              window.interactive_beam_jquery = jQuery.noConflict(true);\n              window.interactive_beam_jquery(document).ready(function($){\n                \n              });\n            }\n            document.head.appendChild(datatableScript);\n          };\n          document.head.appendChild(jqueryScript);\n        } else {\n          window.interactive_beam_jquery(document).ready(function($){\n            \n          });\n        }"
     },
     "metadata": {},
     "output_type": "display_data"
    }
   ],
   "source": [
    "def read_csv_file(filename):\n",
    "  with open(filename, 'r') as file:\n",
    "    # Optionally, skip the header if there is one\n",
    "    # next(file, None)  # Uncomment to skip the first row (header)\n",
    "    for row in csv.reader(file):\n",
    "      yield row\n",
    "\n",
    "def parse_url_string(line):\n",
    "  kv= {key_value.split('=')[0]: key_value.split('=')[1] for key_value in line[0].split('&')}\n",
    "  kv['created'] = int(kv['created'])\n",
    "  return beam.Row(**kv)\n",
    "\n",
    "api_pcoll = (pipeline\n",
    "| 'Emit filename' >> beam.Create(['api.log'])\n",
    "| 'Read CSV' >> beam.FlatMap(read_csv_file)\n",
    "| 'Parse line' >> beam.Map(parse_url_string)\n",
    "| 'Add timestamp' >> beam.Map(\n",
    "  lambda x: beam.window.TimestampedValue(x, x.created))\n",
    ")\n"
   ]
  },
  {
   "cell_type": "code",
   "execution_count": 4,
   "metadata": {},
   "outputs": [],
   "source": [
    "windowing = beam.WindowInto(\n",
    "  beam.window.FixedWindows(60)\n",
    ")\n"
   ]
  },
  {
   "cell_type": "markdown",
   "metadata": {},
   "source": [
    "## Sum of events per window"
   ]
  },
  {
   "cell_type": "code",
   "execution_count": 5,
   "metadata": {},
   "outputs": [
    {
     "data": {
      "text/html": [
       "\n",
       "            <link rel=\"stylesheet\" href=\"https://stackpath.bootstrapcdn.com/bootstrap/4.4.1/css/bootstrap.min.css\" integrity=\"sha384-Vkoo8x4CGsO3+Hhxv8T/Q5PaXtkKtu6ug5TOeNV6gBiFeWPGFN9MuhOf23Q9Ifjh\" crossorigin=\"anonymous\">\n",
       "            <div id=\"progress_indicator_c98fa04c3f07d108fe7901631f4b41e4\">\n",
       "              <div class=\"spinner-border text-info\" role=\"status\"></div>\n",
       "              <span class=\"text-info\">Processing... collect</span>\n",
       "            </div>\n",
       "            "
      ],
      "text/plain": [
       "<IPython.core.display.HTML object>"
      ]
     },
     "metadata": {},
     "output_type": "display_data"
    },
    {
     "data": {
      "application/javascript": "\n        if (typeof window.interactive_beam_jquery == 'undefined') {\n          var jqueryScript = document.createElement('script');\n          jqueryScript.src = 'https://code.jquery.com/jquery-3.4.1.slim.min.js';\n          jqueryScript.type = 'text/javascript';\n          jqueryScript.onload = function() {\n            var datatableScript = document.createElement('script');\n            datatableScript.src = 'https://cdn.datatables.net/1.10.20/js/jquery.dataTables.min.js';\n            datatableScript.type = 'text/javascript';\n            datatableScript.onload = function() {\n              window.interactive_beam_jquery = jQuery.noConflict(true);\n              window.interactive_beam_jquery(document).ready(function($){\n                \n            $(\"#progress_indicator_c98fa04c3f07d108fe7901631f4b41e4\").remove();\n              });\n            }\n            document.head.appendChild(datatableScript);\n          };\n          document.head.appendChild(jqueryScript);\n        } else {\n          window.interactive_beam_jquery(document).ready(function($){\n            \n            $(\"#progress_indicator_c98fa04c3f07d108fe7901631f4b41e4\").remove();\n          });\n        }"
     },
     "metadata": {},
     "output_type": "display_data"
    },
    {
     "data": {
      "text/html": [
       "<div>\n",
       "<style scoped>\n",
       "    .dataframe tbody tr th:only-of-type {\n",
       "        vertical-align: middle;\n",
       "    }\n",
       "\n",
       "    .dataframe tbody tr th {\n",
       "        vertical-align: top;\n",
       "    }\n",
       "\n",
       "    .dataframe thead th {\n",
       "        text-align: right;\n",
       "    }\n",
       "</style>\n",
       "<table border=\"1\" class=\"dataframe\">\n",
       "  <thead>\n",
       "    <tr style=\"text-align: right;\">\n",
       "      <th></th>\n",
       "      <th>0</th>\n",
       "    </tr>\n",
       "  </thead>\n",
       "  <tbody>\n",
       "    <tr>\n",
       "      <th>0</th>\n",
       "      <td>Count: 10000</td>\n",
       "    </tr>\n",
       "    <tr>\n",
       "      <th>1</th>\n",
       "      <td>Count: 10000</td>\n",
       "    </tr>\n",
       "    <tr>\n",
       "      <th>2</th>\n",
       "      <td>Count: 10000</td>\n",
       "    </tr>\n",
       "  </tbody>\n",
       "</table>\n",
       "</div>"
      ],
      "text/plain": [
       "              0\n",
       "0  Count: 10000\n",
       "1  Count: 10000\n",
       "2  Count: 10000"
      ]
     },
     "execution_count": 5,
     "metadata": {},
     "output_type": "execute_result"
    }
   ],
   "source": [
    "result = (\n",
    "  api_pcoll\n",
    "  | 'Windowing' >> windowing\n",
    "  | 'Sum' >> beam.combiners.Count.Globally().without_defaults()\n",
    "  | 'Format' >> beam.Map(lambda x: 'Count: {}'.format(x)))\n",
    "\n",
    "collect(result)\n"
   ]
  },
  {
   "cell_type": "markdown",
   "metadata": {},
   "source": [
    "## Sum of events per combined keys in window"
   ]
  },
  {
   "cell_type": "code",
   "execution_count": 6,
   "metadata": {},
   "outputs": [
    {
     "data": {
      "text/html": [
       "\n",
       "            <link rel=\"stylesheet\" href=\"https://stackpath.bootstrapcdn.com/bootstrap/4.4.1/css/bootstrap.min.css\" integrity=\"sha384-Vkoo8x4CGsO3+Hhxv8T/Q5PaXtkKtu6ug5TOeNV6gBiFeWPGFN9MuhOf23Q9Ifjh\" crossorigin=\"anonymous\">\n",
       "            <div id=\"progress_indicator_1085e6557cbc7a532229c6ffc6b16126\">\n",
       "              <div class=\"spinner-border text-info\" role=\"status\"></div>\n",
       "              <span class=\"text-info\">Processing... collect</span>\n",
       "            </div>\n",
       "            "
      ],
      "text/plain": [
       "<IPython.core.display.HTML object>"
      ]
     },
     "metadata": {},
     "output_type": "display_data"
    },
    {
     "data": {
      "application/javascript": "\n        if (typeof window.interactive_beam_jquery == 'undefined') {\n          var jqueryScript = document.createElement('script');\n          jqueryScript.src = 'https://code.jquery.com/jquery-3.4.1.slim.min.js';\n          jqueryScript.type = 'text/javascript';\n          jqueryScript.onload = function() {\n            var datatableScript = document.createElement('script');\n            datatableScript.src = 'https://cdn.datatables.net/1.10.20/js/jquery.dataTables.min.js';\n            datatableScript.type = 'text/javascript';\n            datatableScript.onload = function() {\n              window.interactive_beam_jquery = jQuery.noConflict(true);\n              window.interactive_beam_jquery(document).ready(function($){\n                \n            $(\"#progress_indicator_1085e6557cbc7a532229c6ffc6b16126\").remove();\n              });\n            }\n            document.head.appendChild(datatableScript);\n          };\n          document.head.appendChild(jqueryScript);\n        } else {\n          window.interactive_beam_jquery(document).ready(function($){\n            \n            $(\"#progress_indicator_1085e6557cbc7a532229c6ffc6b16126\").remove();\n          });\n        }"
     },
     "metadata": {},
     "output_type": "display_data"
    },
    {
     "data": {
      "text/html": [
       "<div>\n",
       "<style scoped>\n",
       "    .dataframe tbody tr th:only-of-type {\n",
       "        vertical-align: middle;\n",
       "    }\n",
       "\n",
       "    .dataframe tbody tr th {\n",
       "        vertical-align: top;\n",
       "    }\n",
       "\n",
       "    .dataframe thead th {\n",
       "        text-align: right;\n",
       "    }\n",
       "</style>\n",
       "<table border=\"1\" class=\"dataframe\">\n",
       "  <thead>\n",
       "    <tr style=\"text-align: right;\">\n",
       "      <th></th>\n",
       "      <th>0</th>\n",
       "      <th>1</th>\n",
       "      <th>2</th>\n",
       "      <th>3</th>\n",
       "    </tr>\n",
       "  </thead>\n",
       "  <tbody>\n",
       "    <tr>\n",
       "      <th>0</th>\n",
       "      <td>Timestamp(0)</td>\n",
       "      <td>Timestamp(60)</td>\n",
       "      <td>hostname=hostname3 uid=uid45</td>\n",
       "      <td>15</td>\n",
       "    </tr>\n",
       "    <tr>\n",
       "      <th>1</th>\n",
       "      <td>Timestamp(60)</td>\n",
       "      <td>Timestamp(120)</td>\n",
       "      <td>hostname=hostname3 uid=uid45</td>\n",
       "      <td>10</td>\n",
       "    </tr>\n",
       "    <tr>\n",
       "      <th>2</th>\n",
       "      <td>Timestamp(120)</td>\n",
       "      <td>Timestamp(180)</td>\n",
       "      <td>hostname=hostname3 uid=uid45</td>\n",
       "      <td>12</td>\n",
       "    </tr>\n",
       "    <tr>\n",
       "      <th>3</th>\n",
       "      <td>Timestamp(0)</td>\n",
       "      <td>Timestamp(60)</td>\n",
       "      <td>hostname=hostname7 uid=uid81</td>\n",
       "      <td>14</td>\n",
       "    </tr>\n",
       "    <tr>\n",
       "      <th>4</th>\n",
       "      <td>Timestamp(60)</td>\n",
       "      <td>Timestamp(120)</td>\n",
       "      <td>hostname=hostname7 uid=uid81</td>\n",
       "      <td>10</td>\n",
       "    </tr>\n",
       "    <tr>\n",
       "      <th>...</th>\n",
       "      <td>...</td>\n",
       "      <td>...</td>\n",
       "      <td>...</td>\n",
       "      <td>...</td>\n",
       "    </tr>\n",
       "    <tr>\n",
       "      <th>2668</th>\n",
       "      <td>Timestamp(60)</td>\n",
       "      <td>Timestamp(120)</td>\n",
       "      <td>hostname=hostname2 uid=uid59</td>\n",
       "      <td>7</td>\n",
       "    </tr>\n",
       "    <tr>\n",
       "      <th>2669</th>\n",
       "      <td>Timestamp(120)</td>\n",
       "      <td>Timestamp(180)</td>\n",
       "      <td>hostname=hostname2 uid=uid59</td>\n",
       "      <td>11</td>\n",
       "    </tr>\n",
       "    <tr>\n",
       "      <th>2670</th>\n",
       "      <td>Timestamp(0)</td>\n",
       "      <td>Timestamp(60)</td>\n",
       "      <td>hostname=hostname2 uid=uid37</td>\n",
       "      <td>5</td>\n",
       "    </tr>\n",
       "    <tr>\n",
       "      <th>2671</th>\n",
       "      <td>Timestamp(60)</td>\n",
       "      <td>Timestamp(120)</td>\n",
       "      <td>hostname=hostname2 uid=uid37</td>\n",
       "      <td>13</td>\n",
       "    </tr>\n",
       "    <tr>\n",
       "      <th>2672</th>\n",
       "      <td>Timestamp(120)</td>\n",
       "      <td>Timestamp(180)</td>\n",
       "      <td>hostname=hostname2 uid=uid37</td>\n",
       "      <td>12</td>\n",
       "    </tr>\n",
       "  </tbody>\n",
       "</table>\n",
       "<p>2673 rows × 4 columns</p>\n",
       "</div>"
      ],
      "text/plain": [
       "                   0               1                             2   3\n",
       "0       Timestamp(0)   Timestamp(60)  hostname=hostname3 uid=uid45  15\n",
       "1      Timestamp(60)  Timestamp(120)  hostname=hostname3 uid=uid45  10\n",
       "2     Timestamp(120)  Timestamp(180)  hostname=hostname3 uid=uid45  12\n",
       "3       Timestamp(0)   Timestamp(60)  hostname=hostname7 uid=uid81  14\n",
       "4      Timestamp(60)  Timestamp(120)  hostname=hostname7 uid=uid81  10\n",
       "...              ...             ...                           ...  ..\n",
       "2668   Timestamp(60)  Timestamp(120)  hostname=hostname2 uid=uid59   7\n",
       "2669  Timestamp(120)  Timestamp(180)  hostname=hostname2 uid=uid59  11\n",
       "2670    Timestamp(0)   Timestamp(60)  hostname=hostname2 uid=uid37   5\n",
       "2671   Timestamp(60)  Timestamp(120)  hostname=hostname2 uid=uid37  13\n",
       "2672  Timestamp(120)  Timestamp(180)  hostname=hostname2 uid=uid37  12\n",
       "\n",
       "[2673 rows x 4 columns]"
      ]
     },
     "execution_count": 6,
     "metadata": {},
     "output_type": "execute_result"
    }
   ],
   "source": [
    "def combine_key(kv):\n",
    "  return f'hostname={kv.hostname} uid={kv.uid}'\n",
    "\n",
    "class FormatRecordDoFn(beam.DoFn):\n",
    "  def __init__(self):\n",
    "      super(FormatRecordDoFn, self).__init__()\n",
    "\n",
    "  def process(self, element,  window=beam.DoFn.WindowParam):\n",
    "      window_start = window.start\n",
    "      window_end = window.end\n",
    "      return [(window_start, window_end, element[0], element[1])]\n",
    "\n",
    "result = (\n",
    "  api_pcoll\n",
    "  | 'Combine key' >> beam.Map(lambda x: (combine_key(x), x))\n",
    "  | 'Windowing' >> windowing\n",
    "  | 'Sum' >> beam.combiners.Count.PerKey()\n",
    "  | 'Format' >> beam.ParDo(FormatRecordDoFn())\n",
    ")\n",
    "\n",
    "collect(result)\n"
   ]
  },
  {
   "cell_type": "code",
   "execution_count": null,
   "metadata": {},
   "outputs": [],
   "source": []
  }
 ],
 "metadata": {
  "kernelspec": {
   "display_name": ".venv",
   "language": "python",
   "name": "python3"
  },
  "language_info": {
   "codemirror_mode": {
    "name": "ipython",
    "version": 3
   },
   "file_extension": ".py",
   "mimetype": "text/x-python",
   "name": "python",
   "nbconvert_exporter": "python",
   "pygments_lexer": "ipython3",
   "version": "3.10.13"
  }
 },
 "nbformat": 4,
 "nbformat_minor": 2
}
